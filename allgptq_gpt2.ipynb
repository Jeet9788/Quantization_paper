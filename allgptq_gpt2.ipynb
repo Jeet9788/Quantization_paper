{
  "nbformat": 4,
  "nbformat_minor": 0,
  "metadata": {
    "colab": {
      "provenance": [],
      "gpuType": "T4",
      "authorship_tag": "ABX9TyM7qNvxtsLUgQRyWZwXPXRC",
      "include_colab_link": true
    },
    "kernelspec": {
      "name": "python3",
      "display_name": "Python 3"
    },
    "language_info": {
      "name": "python"
    },
    "accelerator": "GPU"
  },
  "cells": [
    {
      "cell_type": "markdown",
      "metadata": {
        "id": "view-in-github",
        "colab_type": "text"
      },
      "source": [
        "<a href=\"https://colab.research.google.com/github/Jeet9788/Quantization_paper/blob/main/allgptq_gpt2.ipynb\" target=\"_parent\"><img src=\"https://colab.research.google.com/assets/colab-badge.svg\" alt=\"Open In Colab\"/></a>"
      ]
    },
    {
      "cell_type": "code",
      "execution_count": null,
      "metadata": {
        "id": "kICotHB-ZShl"
      },
      "outputs": [],
      "source": [
        "!pip install accelerate optimum transformers"
      ]
    },
    {
      "cell_type": "code",
      "source": [
        "!pip install datasets\n",
        "!pip install auto-gptq"
      ],
      "metadata": {
        "id": "tp9DP6k8Z2x6"
      },
      "execution_count": null,
      "outputs": []
    },
    {
      "cell_type": "code",
      "source": [
        "import time\n",
        "import torch\n",
        "from transformers import AutoTokenizer, AutoModelForCausalLM , GPTQConfig\n",
        "from datasets import load_dataset\n",
        "from tqdm import tqdm"
      ],
      "metadata": {
        "id": "rXaagw8baAjI"
      },
      "execution_count": null,
      "outputs": []
    },
    {
      "cell_type": "code",
      "source": [
        "# Set device\n",
        "device = torch.device(\"cuda\" if torch.cuda.is_available() else \"cpu\")\n",
        "print(f\"Using device: {device}\")"
      ],
      "metadata": {
        "id": "jXFR5WAXaDKE"
      },
      "execution_count": null,
      "outputs": []
    },
    {
      "cell_type": "code",
      "source": [
        "\n",
        "\n",
        "model_id = \"gpt2\"\n",
        "\n",
        "# tokenizer = AutoTokenizer.from_pretrained(model_id)\n",
        "# quant_model = AutoModelForCausalLM.from_pretrained(model_id).to(device).half()\n",
        "\n",
        "quantization_config = GPTQConfig(\n",
        "     bits=8,\n",
        "     group_size=128,\n",
        "     dataset=\"wikitext2\",\n",
        "     desc_act=False,\n",
        ")\n",
        "\n",
        "tokenizer = AutoTokenizer.from_pretrained(model_id)\n",
        "quant_model = AutoModelForCausalLM.from_pretrained(model_id, quantization_config=quantization_config, device_map='auto')"
      ],
      "metadata": {
        "id": "LarVX61qaPBH"
      },
      "execution_count": null,
      "outputs": []
    },
    {
      "cell_type": "code",
      "source": [
        "print(f\"Model size: {quant_model.get_memory_footprint():,} bytes\")"
      ],
      "metadata": {
        "id": "wwiAUlK5aRXZ"
      },
      "execution_count": null,
      "outputs": []
    },
    {
      "cell_type": "code",
      "source": [
        "!pip install datasets\n"
      ],
      "metadata": {
        "id": "VdG3fdHhrSyJ"
      },
      "execution_count": null,
      "outputs": []
    },
    {
      "cell_type": "code",
      "source": [
        "from datasets import load_dataset\n",
        "from tqdm import tqdm"
      ],
      "metadata": {
        "id": "Moo9Xtj_rbWr"
      },
      "execution_count": null,
      "outputs": []
    },
    {
      "cell_type": "code",
      "source": [
        "\n",
        "test = load_dataset(\"wikitext\", \"wikitext-2-raw-v1\", split=\"test\")\n",
        "encodings = tokenizer(\"\\n\\n\".join(test[\"text\"]), return_tensors=\"pt\")"
      ],
      "metadata": {
        "id": "H9sicXBirfft"
      },
      "execution_count": null,
      "outputs": []
    },
    {
      "cell_type": "code",
      "source": [
        "quant_model = AutoModelForCausalLM.from_pretrained(model_id).to(device)\n"
      ],
      "metadata": {
        "id": "9GJIyCVWtp0Y"
      },
      "execution_count": null,
      "outputs": []
    },
    {
      "cell_type": "code",
      "source": [
        "max_length = quant_model.config.n_positions\n",
        "stride = 512\n",
        "seq_len = encodings.input_ids.size(1)\n",
        "\n",
        "nll_sum = 0.0\n",
        "n_tokens = 0\n",
        "prev_end_loc = 0\n",
        "for begin_loc in tqdm(range(0, seq_len, stride)):\n",
        "    end_loc = min(begin_loc + max_length, seq_len)\n",
        "    trg_len = end_loc - prev_end_loc  # may be different from stride on last loop\n",
        "    input_ids = encodings.input_ids[:, begin_loc:end_loc].to(device)\n",
        "    target_ids = input_ids.clone()\n",
        "    target_ids[:, :-trg_len] = -100\n",
        "\n",
        "    with torch.no_grad():\n",
        "        outputs = quant_model(input_ids, labels=target_ids)\n",
        "\n",
        "        # loss is calculated using CrossEntropyLoss which averages over valid labels\n",
        "        # N.B. the model only calculates loss over trg_len - 1 labels, because it internally shifts the labels\n",
        "        # to the left by 1.\n",
        "        neg_log_likelihood = outputs.loss\n",
        "\n",
        "    # Accumulate the total negative log-likelihood and the total number of tokens\n",
        "    num_valid_tokens = (target_ids != -100).sum().item()  # number of valid tokens in target_ids\n",
        "    batch_size = target_ids.size(0)\n",
        "    num_loss_tokens = num_valid_tokens - batch_size  # subtract batch_size due to internal label shift\n",
        "    nll_sum += neg_log_likelihood * num_loss_tokens\n",
        "    n_tokens += num_loss_tokens\n",
        "\n",
        "    prev_end_loc = end_loc\n",
        "    if end_loc == seq_len:\n",
        "        break\n",
        "\n",
        "avg_nll = nll_sum / n_tokens  # average negative log-likelihood per token\n",
        "ppl = torch.exp(avg_nll)\n",
        "print(f\"Avg NLL: {avg_nll:.4f}, Total tokens: {n_tokens}, Perplexity: {ppl:.2f}\")"
      ],
      "metadata": {
        "id": "zgkxFeoSri-f"
      },
      "execution_count": null,
      "outputs": []
    }
  ]
}