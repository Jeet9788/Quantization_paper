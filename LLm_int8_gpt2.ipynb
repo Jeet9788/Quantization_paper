{
  "nbformat": 4,
  "nbformat_minor": 0,
  "metadata": {
    "colab": {
      "provenance": [],
      "gpuType": "T4",
      "authorship_tag": "ABX9TyN2PStjVT3vWbC9n8YY2wFD",
      "include_colab_link": true
    },
    "kernelspec": {
      "name": "python3",
      "display_name": "Python 3"
    },
    "language_info": {
      "name": "python"
    },
    "accelerator": "GPU"
  },
  "cells": [
    {
      "cell_type": "markdown",
      "metadata": {
        "id": "view-in-github",
        "colab_type": "text"
      },
      "source": [
        "<a href=\"https://colab.research.google.com/github/Jeet9788/Quantization_paper/blob/main/LLm_int8_gpt2.ipynb\" target=\"_parent\"><img src=\"https://colab.research.google.com/assets/colab-badge.svg\" alt=\"Open In Colab\"/></a>"
      ]
    },
    {
      "cell_type": "code",
      "source": [
        "import torch"
      ],
      "metadata": {
        "id": "VEWWPPLoSUAA"
      },
      "execution_count": null,
      "outputs": []
    },
    {
      "cell_type": "code",
      "source": [
        "!pip install -q bitsandbytes>=0.39.0\n",
        "!pip install -q git+https://github.com/huggingface/accelerate.git\n",
        "!pip install -q git+https://github.com/huggingface/transformers.git"
      ],
      "metadata": {
        "id": "34IUbr9kSiim"
      },
      "execution_count": null,
      "outputs": []
    },
    {
      "cell_type": "code",
      "source": [
        "from transformers import AutoModelForCausalLM, AutoTokenizer\n",
        "import torch\n",
        "torch.manual_seed(0)\n",
        "\n",
        "# Set device\n",
        "device = torch.device(\"cuda\" if torch.cuda.is_available() else \"cpu\")\n",
        "print(f\"Using device: {device}\")\n",
        "\n",
        "# Load model and tokenizer\n",
        "model_id = 'gpt2'\n",
        "model = AutoModelForCausalLM.from_pretrained(model_id).to(device)\n",
        "tokenizer = AutoTokenizer.from_pretrained(model_id)\n",
        "\n",
        "# Print model size\n",
        "print(f\"Model size: {model.get_memory_footprint():,} bytes\")"
      ],
      "metadata": {
        "id": "i0Y9JcrGSsdb"
      },
      "execution_count": null,
      "outputs": []
    },
    {
      "cell_type": "code",
      "source": [
        "device = torch.device('cuda' if torch.cuda.is_available() else 'cpu')\n",
        "\n",
        "model_int8 = AutoModelForCausalLM.from_pretrained(model_id,\n",
        "                                             device_map='auto',\n",
        "                                             load_in_8bit=True,\n",
        "                                             )\n",
        "print(f\"Model size: {model_int8.get_memory_footprint():,} bytes\")"
      ],
      "metadata": {
        "id": "-8tNSptjT4vI"
      },
      "execution_count": null,
      "outputs": []
    },
    {
      "cell_type": "code",
      "source": [
        "!pip install datasets\n"
      ],
      "metadata": {
        "id": "SRKYVpaOUiZn"
      },
      "execution_count": null,
      "outputs": []
    },
    {
      "cell_type": "code",
      "source": [
        "from datasets import load_dataset\n",
        "from tqdm import tqdm"
      ],
      "metadata": {
        "id": "2GFPxpeGUySv"
      },
      "execution_count": null,
      "outputs": []
    },
    {
      "cell_type": "code",
      "source": [
        "\n",
        "test = load_dataset(\"wikitext\", \"wikitext-2-raw-v1\", split=\"test\")\n",
        "encodings = tokenizer(\"\\n\\n\".join(test[\"text\"]), return_tensors=\"pt\")"
      ],
      "metadata": {
        "id": "HtXyI3wDU3j-"
      },
      "execution_count": null,
      "outputs": []
    },
    {
      "cell_type": "code",
      "source": [
        "max_length = model_int8.config.n_positions\n",
        "stride = 1024\n",
        "seq_len = encodings.input_ids.size(1)\n",
        "\n",
        "nll_sum = 0.0\n",
        "n_tokens = 0\n",
        "prev_end_loc = 0\n",
        "for begin_loc in tqdm(range(0, seq_len, stride)):\n",
        "    end_loc = min(begin_loc + max_length, seq_len)\n",
        "    trg_len = end_loc - prev_end_loc  # may be different from stride on last loop\n",
        "    input_ids = encodings.input_ids[:, begin_loc:end_loc].to(device)\n",
        "    target_ids = input_ids.clone()\n",
        "    target_ids[:, :-trg_len] = -100\n",
        "\n",
        "    with torch.no_grad():\n",
        "        outputs = model_int8(input_ids, labels=target_ids)\n",
        "\n",
        "        # loss is calculated using CrossEntropyLoss which averages over valid labels\n",
        "        # N.B. the model only calculates loss over trg_len - 1 labels, because it internally shifts the labels\n",
        "        # to the left by 1.\n",
        "        neg_log_likelihood = outputs.loss\n",
        "\n",
        "    # Accumulate the total negative log-likelihood and the total number of tokens\n",
        "    num_valid_tokens = (target_ids != -100).sum().item()  # number of valid tokens in target_ids\n",
        "    batch_size = target_ids.size(0)\n",
        "    num_loss_tokens = num_valid_tokens - batch_size  # subtract batch_size due to internal label shift\n",
        "    nll_sum += neg_log_likelihood * num_loss_tokens\n",
        "    n_tokens += num_loss_tokens\n",
        "\n",
        "    prev_end_loc = end_loc\n",
        "    if end_loc == seq_len:\n",
        "        break\n",
        "\n",
        "avg_nll = nll_sum / n_tokens  # average negative log-likelihood per token\n",
        "ppl = torch.exp(avg_nll)\n",
        "print(f\"Avg NLL: {avg_nll:.4f}, Total tokens: {n_tokens}, Perplexity: {ppl:.2f}\")"
      ],
      "metadata": {
        "id": "Q0O6ZB5TU7jr"
      },
      "execution_count": null,
      "outputs": []
    }
  ]
}