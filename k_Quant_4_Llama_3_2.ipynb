{
  "nbformat": 4,
  "nbformat_minor": 0,
  "metadata": {
    "colab": {
      "provenance": []
    },
    "kernelspec": {
      "name": "python3",
      "display_name": "Python 3"
    },
    "language_info": {
      "name": "python"
    }
  },
  "cells": [
    {
      "cell_type": "code",
      "execution_count": null,
      "metadata": {
        "id": "A9IdNwqopXFN"
      },
      "outputs": [],
      "source": [
        "from huggingface_hub import notebook_login\n",
        "notebook_login()"
      ]
    },
    {
      "cell_type": "code",
      "source": [
        "from huggingface_hub import snapshot_download\n",
        "\n",
        "model_name = \"meta-llama/Llama-3.2-1B\"\n",
        "base_model = \"./original_model/\"\n",
        "snapshot_download(repo_id=model_name, local_dir=base_model, ignore_patterns=[\"*.pth\"])"
      ],
      "metadata": {
        "id": "YWh7QTB3pgI2"
      },
      "execution_count": null,
      "outputs": []
    },
    {
      "cell_type": "code",
      "source": [
        "!git clone https://github.com/ggerganov/llama.cpp"
      ],
      "metadata": {
        "id": "EmKpwQo0pw1A"
      },
      "execution_count": null,
      "outputs": []
    },
    {
      "cell_type": "code",
      "source": [
        "!mkdir models"
      ],
      "metadata": {
        "id": "pydeVLinp45b"
      },
      "execution_count": null,
      "outputs": []
    },
    {
      "cell_type": "code",
      "source": [
        "!python llama.cpp/convert_hf_to_gguf.py ./original_model/ --outfile models/llama_3.2_FP16.gguf"
      ],
      "metadata": {
        "id": "PxOvM4Lop5DC"
      },
      "execution_count": null,
      "outputs": []
    },
    {
      "cell_type": "code",
      "source": [
        "!mkdir llama.cpp/build && cd llama.cpp/build && cmake .. && cmake --build . --config Release"
      ],
      "metadata": {
        "id": "kC6ryun4p5Gc"
      },
      "execution_count": null,
      "outputs": []
    },
    {
      "cell_type": "code",
      "source": [
        "!cd llama.cpp/build/bin && ./llama-quantize /content/models/llama_3.2_FP16.gguf /content/models/llama_3.2-Q4_K_M.gguf q4_K_M"
      ],
      "metadata": {
        "id": "uDfZeEFCqIth"
      },
      "execution_count": null,
      "outputs": []
    },
    {
      "cell_type": "code",
      "source": [
        "!pip install llama-cpp-python==0.2.85"
      ],
      "metadata": {
        "id": "aVFTW1Ywqcbb"
      },
      "execution_count": null,
      "outputs": []
    },
    {
      "cell_type": "code",
      "source": [
        "!pip install datasets"
      ],
      "metadata": {
        "id": "FClOX93eU78z"
      },
      "execution_count": null,
      "outputs": []
    },
    {
      "cell_type": "code",
      "source": [
        "from datasets import load_dataset\n",
        "\n",
        "dataset = load_dataset(\"wikitext\", \"wikitext-2-raw-v1\", split=\"test\")"
      ],
      "metadata": {
        "id": "fYBAgSNCU_9c"
      },
      "execution_count": null,
      "outputs": []
    },
    {
      "cell_type": "code",
      "source": [
        "text_data = [example['text'] for example in dataset]\n",
        "\n",
        "with open('wikitext-2-test.txt', 'w') as f:\n",
        "    for text in text_data:\n",
        "        f.write(text + '\\n')"
      ],
      "metadata": {
        "id": "jSM7Cc9rVGAC"
      },
      "execution_count": null,
      "outputs": []
    },
    {
      "cell_type": "code",
      "source": [
        "!cd llama.cpp/build/bin && ./llama-perplexity -m /content/models/llama_3.2-Q4_K_M.gguf -f /content/wikitext-2-test.txt\n"
      ],
      "metadata": {
        "id": "c3IDH4tUGSts"
      },
      "execution_count": null,
      "outputs": []
    }
  ]
}