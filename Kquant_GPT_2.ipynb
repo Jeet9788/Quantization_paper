{
  "nbformat": 4,
  "nbformat_minor": 0,
  "metadata": {
    "colab": {
      "provenance": [],
      "gpuType": "T4",
      "authorship_tag": "ABX9TyPa1/ghO5XwjlaJc38xrmly",
      "include_colab_link": true
    },
    "kernelspec": {
      "name": "python3",
      "display_name": "Python 3"
    },
    "language_info": {
      "name": "python"
    },
    "accelerator": "GPU"
  },
  "cells": [
    {
      "cell_type": "markdown",
      "metadata": {
        "id": "view-in-github",
        "colab_type": "text"
      },
      "source": [
        "<a href=\"https://colab.research.google.com/github/Jeet9788/Quantization_paper/blob/main/Kquant_GPT_2.ipynb\" target=\"_parent\"><img src=\"https://colab.research.google.com/assets/colab-badge.svg\" alt=\"Open In Colab\"/></a>"
      ]
    },
    {
      "cell_type": "code",
      "execution_count": null,
      "metadata": {
        "id": "K9rneNlnDMxN"
      },
      "outputs": [],
      "source": [
        "from huggingface_hub import snapshot_download\n",
        "\n",
        "model_name = \"gpt2\"\n",
        "base_model = \"./original_model/\"\n",
        "snapshot_download(repo_id=model_name, local_dir=base_model, ignore_patterns=[\"*.pth\"])"
      ]
    },
    {
      "cell_type": "code",
      "source": [
        "!git clone https://github.com/ggerganov/llama.cpp"
      ],
      "metadata": {
        "id": "tdMRLTYPDX1b"
      },
      "execution_count": null,
      "outputs": []
    },
    {
      "cell_type": "code",
      "source": [
        "!mkdir models"
      ],
      "metadata": {
        "id": "0UKYVIYcDb2m"
      },
      "execution_count": null,
      "outputs": []
    },
    {
      "cell_type": "code",
      "source": [
        "!python llama.cpp/convert_hf_to_gguf.py ./original_model/ --outfile models/gpt2_FP16.gguf"
      ],
      "metadata": {
        "id": "6GVeV-1uDb5e"
      },
      "execution_count": null,
      "outputs": []
    },
    {
      "cell_type": "code",
      "source": [
        "!mkdir llama.cpp/build && cd llama.cpp/build && cmake .. && cmake --build . --config Release"
      ],
      "metadata": {
        "id": "8hhIgSKnDb76"
      },
      "execution_count": null,
      "outputs": []
    },
    {
      "cell_type": "code",
      "source": [
        "!cd llama.cpp/build/bin && ./llama-quantize /content/models/gpt2_FP16.gguf /content/models/gpt2-Q4_K_M.gguf q4_K_M"
      ],
      "metadata": {
        "id": "OpIyAPbdDb-X"
      },
      "execution_count": null,
      "outputs": []
    },
    {
      "cell_type": "code",
      "source": [
        "!pip install datasets"
      ],
      "metadata": {
        "id": "F-9R3o4rDcBu"
      },
      "execution_count": null,
      "outputs": []
    },
    {
      "cell_type": "code",
      "source": [
        "from datasets import load_dataset\n",
        "\n",
        "dataset = load_dataset(\"wikitext\", \"wikitext-2-raw-v1\", split=\"test\")"
      ],
      "metadata": {
        "id": "PVVfJhmnDwmV"
      },
      "execution_count": null,
      "outputs": []
    },
    {
      "cell_type": "code",
      "source": [
        "text_data = [example['text'] for example in dataset]\n",
        "\n",
        "with open('wikitext-2-test.txt', 'w') as f:\n",
        "    for text in text_data:\n",
        "        f.write(text + '\\n')"
      ],
      "metadata": {
        "id": "m4_dJa8rDxOA"
      },
      "execution_count": null,
      "outputs": []
    },
    {
      "cell_type": "code",
      "source": [
        "!cd llama.cpp/build/bin && ./llama-perplexity -m /content/models/gpt2-Q4_K_M.gguf -f /content/wikitext-2-test.txt\n"
      ],
      "metadata": {
        "id": "og61PElqDzuF"
      },
      "execution_count": null,
      "outputs": []
    }
  ]
}